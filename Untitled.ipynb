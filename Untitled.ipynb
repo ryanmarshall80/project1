{
 "cells": [
  {
   "cell_type": "code",
   "execution_count": 1,
   "id": "60336bfd",
   "metadata": {
    "scrolled": true
   },
   "outputs": [],
   "source": [
    "# Dependencies and Setup\n",
    "import matplotlib.pyplot as plt\n",
    "import pandas as pd\n",
    "import numpy as np\n",
    "import requests\n",
    "import gmaps\n",
    "import os\n",
    "import gmaps.datasets\n",
    "import seaborn as sns\n",
    "\n",
    "# Import API key\n",
    "#from api_keys import g_key"
   ]
  },
  {
   "cell_type": "code",
   "execution_count": 2,
   "id": "17a2d880",
   "metadata": {},
   "outputs": [
    {
     "data": {
      "text/html": [
       "<div>\n",
       "<style scoped>\n",
       "    .dataframe tbody tr th:only-of-type {\n",
       "        vertical-align: middle;\n",
       "    }\n",
       "\n",
       "    .dataframe tbody tr th {\n",
       "        vertical-align: top;\n",
       "    }\n",
       "\n",
       "    .dataframe thead th {\n",
       "        text-align: right;\n",
       "    }\n",
       "</style>\n",
       "<table border=\"1\" class=\"dataframe\">\n",
       "  <thead>\n",
       "    <tr style=\"text-align: right;\">\n",
       "      <th></th>\n",
       "      <th>Country</th>\n",
       "      <th>Region</th>\n",
       "      <th>Happiness Rank</th>\n",
       "      <th>Happiness Score</th>\n",
       "      <th>Economy (GDP per Capita}</th>\n",
       "      <th>Total alcohol consumption per capita</th>\n",
       "      <th>Internet 2015</th>\n",
       "      <th>Obesity Percentage</th>\n",
       "    </tr>\n",
       "  </thead>\n",
       "  <tbody>\n",
       "    <tr>\n",
       "      <th>122</th>\n",
       "      <td>Afghanistan</td>\n",
       "      <td>Southern Asia</td>\n",
       "      <td>153</td>\n",
       "      <td>3.575</td>\n",
       "      <td>0.31982</td>\n",
       "      <td>0.21</td>\n",
       "      <td>8.260000</td>\n",
       "      <td>5.2</td>\n",
       "    </tr>\n",
       "    <tr>\n",
       "      <th>123</th>\n",
       "      <td>Rwanda</td>\n",
       "      <td>Sub-Saharan Africa</td>\n",
       "      <td>154</td>\n",
       "      <td>3.465</td>\n",
       "      <td>0.22208</td>\n",
       "      <td>9.26</td>\n",
       "      <td>18.000000</td>\n",
       "      <td>5.6</td>\n",
       "    </tr>\n",
       "    <tr>\n",
       "      <th>124</th>\n",
       "      <td>Benin</td>\n",
       "      <td>Sub-Saharan Africa</td>\n",
       "      <td>155</td>\n",
       "      <td>3.340</td>\n",
       "      <td>0.28665</td>\n",
       "      <td>2.97</td>\n",
       "      <td>11.254988</td>\n",
       "      <td>9.3</td>\n",
       "    </tr>\n",
       "    <tr>\n",
       "      <th>125</th>\n",
       "      <td>Burundi</td>\n",
       "      <td>Sub-Saharan Africa</td>\n",
       "      <td>157</td>\n",
       "      <td>2.905</td>\n",
       "      <td>0.01530</td>\n",
       "      <td>7.03</td>\n",
       "      <td>2.000000</td>\n",
       "      <td>5.1</td>\n",
       "    </tr>\n",
       "    <tr>\n",
       "      <th>126</th>\n",
       "      <td>Togo</td>\n",
       "      <td>Sub-Saharan Africa</td>\n",
       "      <td>158</td>\n",
       "      <td>2.839</td>\n",
       "      <td>0.20868</td>\n",
       "      <td>2.37</td>\n",
       "      <td>7.120000</td>\n",
       "      <td>8.1</td>\n",
       "    </tr>\n",
       "  </tbody>\n",
       "</table>\n",
       "</div>"
      ],
      "text/plain": [
       "         Country              Region  Happiness Rank  Happiness Score  \\\n",
       "122  Afghanistan       Southern Asia             153            3.575   \n",
       "123       Rwanda  Sub-Saharan Africa             154            3.465   \n",
       "124        Benin  Sub-Saharan Africa             155            3.340   \n",
       "125      Burundi  Sub-Saharan Africa             157            2.905   \n",
       "126         Togo  Sub-Saharan Africa             158            2.839   \n",
       "\n",
       "     Economy (GDP per Capita}  Total alcohol consumption per capita  \\\n",
       "122                   0.31982                                  0.21   \n",
       "123                   0.22208                                  9.26   \n",
       "124                   0.28665                                  2.97   \n",
       "125                   0.01530                                  7.03   \n",
       "126                   0.20868                                  2.37   \n",
       "\n",
       "     Internet 2015  Obesity Percentage  \n",
       "122       8.260000                 5.2  \n",
       "123      18.000000                 5.6  \n",
       "124      11.254988                 9.3  \n",
       "125       2.000000                 5.1  \n",
       "126       7.120000                 8.1  "
      ]
     },
     "execution_count": 2,
     "metadata": {},
     "output_type": "execute_result"
    }
   ],
   "source": [
    "happiness_report_df = pd.read_csv(\"Happiness_Report_2016.csv\")\n",
    "happiness_report_df.tail(5)"
   ]
  },
  {
   "cell_type": "code",
   "execution_count": 9,
   "id": "f76e9a6a",
   "metadata": {},
   "outputs": [
    {
     "data": {
      "text/html": [
       "<div>\n",
       "<style scoped>\n",
       "    .dataframe tbody tr th:only-of-type {\n",
       "        vertical-align: middle;\n",
       "    }\n",
       "\n",
       "    .dataframe tbody tr th {\n",
       "        vertical-align: top;\n",
       "    }\n",
       "\n",
       "    .dataframe thead th {\n",
       "        text-align: right;\n",
       "    }\n",
       "</style>\n",
       "<table border=\"1\" class=\"dataframe\">\n",
       "  <thead>\n",
       "    <tr style=\"text-align: right;\">\n",
       "      <th></th>\n",
       "      <th>Country</th>\n",
       "      <th>Happiness Rank</th>\n",
       "      <th>Economy (GDP per Capita}</th>\n",
       "    </tr>\n",
       "  </thead>\n",
       "  <tbody>\n",
       "    <tr>\n",
       "      <th>0</th>\n",
       "      <td>Switzerland</td>\n",
       "      <td>1</td>\n",
       "      <td>1.39651</td>\n",
       "    </tr>\n",
       "    <tr>\n",
       "      <th>1</th>\n",
       "      <td>Iceland</td>\n",
       "      <td>2</td>\n",
       "      <td>1.30232</td>\n",
       "    </tr>\n",
       "    <tr>\n",
       "      <th>2</th>\n",
       "      <td>Denmark</td>\n",
       "      <td>3</td>\n",
       "      <td>1.32548</td>\n",
       "    </tr>\n",
       "    <tr>\n",
       "      <th>3</th>\n",
       "      <td>Norway</td>\n",
       "      <td>4</td>\n",
       "      <td>1.45900</td>\n",
       "    </tr>\n",
       "    <tr>\n",
       "      <th>4</th>\n",
       "      <td>Canada</td>\n",
       "      <td>5</td>\n",
       "      <td>1.32629</td>\n",
       "    </tr>\n",
       "  </tbody>\n",
       "</table>\n",
       "</div>"
      ],
      "text/plain": [
       "       Country  Happiness Rank  Economy (GDP per Capita}\n",
       "0  Switzerland               1                   1.39651\n",
       "1      Iceland               2                   1.30232\n",
       "2      Denmark               3                   1.32548\n",
       "3       Norway               4                   1.45900\n",
       "4       Canada               5                   1.32629"
      ]
     },
     "execution_count": 9,
     "metadata": {},
     "output_type": "execute_result"
    }
   ],
   "source": [
    "data_gdp_f = happiness_report_df.loc[0:4,['Country', 'Happiness Rank', 'Economy (GDP per Capita}']]\n",
    "data_gdp_f"
   ]
  },
  {
   "cell_type": "code",
   "execution_count": 29,
   "id": "0b933aa1",
   "metadata": {},
   "outputs": [
    {
     "data": {
      "image/png": "[encoded data removed]",
      "text/plain": [
       "<Figure size 576x360 with 1 Axes>"
      ]
     },
     "metadata": {
      "needs_background": "light"
     },
     "output_type": "display_data"
    }
   ],
   "source": [
    "#Seaborn bar plot for first 5 rank\n",
    "# Set figure size (width, height) in inches\n",
    "fig, ax = plt.subplots(figsize = ( 8 , 5 ))\n",
    "#plot the bar chart\n",
    "sns.barplot(x = 'Country',\n",
    "            y = 'Economy (GDP per Capita}',\n",
    "            hue = 'Happiness Rank',\n",
    "            data= data_gdp_f)\n",
    "ax.set_title(\"Country vs Economy(GDP per capita)\")\n",
    "ax.set_ylim(0.0,1.6)\n",
    "#save and show the plot\n",
    "plt.savefig('Images/gdp_country_f.png')\n",
    "plt.show()"
   ]
  },
  {
   "cell_type": "code",
   "execution_count": 13,
   "id": "e98a44ce",
   "metadata": {},
   "outputs": [
    {
     "data": {
      "text/html": [
       "<div>\n",
       "<style scoped>\n",
       "    .dataframe tbody tr th:only-of-type {\n",
       "        vertical-align: middle;\n",
       "    }\n",
       "\n",
       "    .dataframe tbody tr th {\n",
       "        vertical-align: top;\n",
       "    }\n",
       "\n",
       "    .dataframe thead th {\n",
       "        text-align: right;\n",
       "    }\n",
       "</style>\n",
       "<table border=\"1\" class=\"dataframe\">\n",
       "  <thead>\n",
       "    <tr style=\"text-align: right;\">\n",
       "      <th></th>\n",
       "      <th>Country</th>\n",
       "      <th>Happiness Rank</th>\n",
       "      <th>Economy (GDP per Capita}</th>\n",
       "    </tr>\n",
       "  </thead>\n",
       "  <tbody>\n",
       "    <tr>\n",
       "      <th>122</th>\n",
       "      <td>Afghanistan</td>\n",
       "      <td>153</td>\n",
       "      <td>0.31982</td>\n",
       "    </tr>\n",
       "    <tr>\n",
       "      <th>123</th>\n",
       "      <td>Rwanda</td>\n",
       "      <td>154</td>\n",
       "      <td>0.22208</td>\n",
       "    </tr>\n",
       "    <tr>\n",
       "      <th>124</th>\n",
       "      <td>Benin</td>\n",
       "      <td>155</td>\n",
       "      <td>0.28665</td>\n",
       "    </tr>\n",
       "    <tr>\n",
       "      <th>125</th>\n",
       "      <td>Burundi</td>\n",
       "      <td>157</td>\n",
       "      <td>0.01530</td>\n",
       "    </tr>\n",
       "    <tr>\n",
       "      <th>126</th>\n",
       "      <td>Togo</td>\n",
       "      <td>158</td>\n",
       "      <td>0.20868</td>\n",
       "    </tr>\n",
       "  </tbody>\n",
       "</table>\n",
       "</div>"
      ],
      "text/plain": [
       "         Country  Happiness Rank  Economy (GDP per Capita}\n",
       "122  Afghanistan             153                   0.31982\n",
       "123       Rwanda             154                   0.22208\n",
       "124        Benin             155                   0.28665\n",
       "125      Burundi             157                   0.01530\n",
       "126         Togo             158                   0.20868"
      ]
     },
     "execution_count": 13,
     "metadata": {},
     "output_type": "execute_result"
    }
   ],
   "source": [
    "\n",
    "data_gdp_l = happiness_report_df.loc[122:126,['Country', 'Happiness Rank', 'Economy (GDP per Capita}']]\n",
    "data_gdp_l"
   ]
  },
  {
   "cell_type": "code",
   "execution_count": 30,
   "id": "a0e3b66e",
   "metadata": {},
   "outputs": [
    {
     "data": {
      "image/png": "[encoded data removed]",
      "text/plain": [
       "<Figure size 576x360 with 1 Axes>"
      ]
     },
     "metadata": {
      "needs_background": "light"
     },
     "output_type": "display_data"
    }
   ],
   "source": [
    "#Seaborn bar plot for  Last 5 ranking\n",
    "# Set figure size (width, height) in inches\n",
    "fig, ax = plt.subplots(figsize = ( 8 , 5 ))\n",
    "#plot the bar chart\n",
    "sns.barplot(x = 'Country',\n",
    "            y = 'Economy (GDP per Capita}',\n",
    "             hue = 'Happiness Rank',\n",
    "            data = data_gdp_l)\n",
    "ax.set_title(\"Country vs Economy(GDP per capita)\")\n",
    "ax.set_ylim(0.0,1.6)\n",
    "#save and show the plot\n",
    "plt.savefig('Images/gdp_country_l.png')\n",
    "plt.show()\n"
   ]
  },
  {
   "cell_type": "code",
   "execution_count": 15,
   "id": "4e7d997e",
   "metadata": {},
   "outputs": [
    {
     "data": {
      "text/html": [
       "<div>\n",
       "<style scoped>\n",
       "    .dataframe tbody tr th:only-of-type {\n",
       "        vertical-align: middle;\n",
       "    }\n",
       "\n",
       "    .dataframe tbody tr th {\n",
       "        vertical-align: top;\n",
       "    }\n",
       "\n",
       "    .dataframe thead th {\n",
       "        text-align: right;\n",
       "    }\n",
       "</style>\n",
       "<table border=\"1\" class=\"dataframe\">\n",
       "  <thead>\n",
       "    <tr style=\"text-align: right;\">\n",
       "      <th></th>\n",
       "      <th>Country</th>\n",
       "      <th>Happiness Rank</th>\n",
       "      <th>Obesity Percentage</th>\n",
       "    </tr>\n",
       "  </thead>\n",
       "  <tbody>\n",
       "    <tr>\n",
       "      <th>0</th>\n",
       "      <td>Switzerland</td>\n",
       "      <td>1</td>\n",
       "      <td>19.1</td>\n",
       "    </tr>\n",
       "    <tr>\n",
       "      <th>1</th>\n",
       "      <td>Iceland</td>\n",
       "      <td>2</td>\n",
       "      <td>21.5</td>\n",
       "    </tr>\n",
       "    <tr>\n",
       "      <th>2</th>\n",
       "      <td>Denmark</td>\n",
       "      <td>3</td>\n",
       "      <td>19.3</td>\n",
       "    </tr>\n",
       "    <tr>\n",
       "      <th>3</th>\n",
       "      <td>Norway</td>\n",
       "      <td>4</td>\n",
       "      <td>22.6</td>\n",
       "    </tr>\n",
       "    <tr>\n",
       "      <th>4</th>\n",
       "      <td>Canada</td>\n",
       "      <td>5</td>\n",
       "      <td>28.8</td>\n",
       "    </tr>\n",
       "  </tbody>\n",
       "</table>\n",
       "</div>"
      ],
      "text/plain": [
       "       Country  Happiness Rank  Obesity Percentage\n",
       "0  Switzerland               1                19.1\n",
       "1      Iceland               2                21.5\n",
       "2      Denmark               3                19.3\n",
       "3       Norway               4                22.6\n",
       "4       Canada               5                28.8"
      ]
     },
     "execution_count": 15,
     "metadata": {},
     "output_type": "execute_result"
    }
   ],
   "source": [
    "data_obe_f = happiness_report_df.loc[0:4,['Country', 'Happiness Rank', 'Obesity Percentage']]\n",
    "data_obe_f"
   ]
  },
  {
   "cell_type": "code",
   "execution_count": 32,
   "id": "e29f86e5",
   "metadata": {},
   "outputs": [
    {
     "data": {
      "image/png": "[encoded data removed]",
      "text/plain": [
       "<Figure size 576x360 with 1 Axes>"
      ]
     },
     "metadata": {
      "needs_background": "light"
     },
     "output_type": "display_data"
    }
   ],
   "source": [
    "#Seaborn bar plot for first 5 rank\n",
    "#Seaborn bar plot for  Last 5 ranking\n",
    "# Set figure size (width, height) in inches\n",
    "fig, ax = plt.subplots(figsize = ( 8 , 5 ))\n",
    "#plot the bar chart\n",
    "sns.barplot(x = 'Country',\n",
    "            y = 'Obesity Percentage',\n",
    "            hue = 'Happiness Rank',\n",
    "            data= data_obe_f)\n",
    "ax.set_ylim(0.0,30)\n",
    "ax.set_title(\"Country vs obesity Percentage\")\n",
    "#save and Show the plot\n",
    "plt.savefig('Images/obe_country_f.png')\n",
    "plt.show()"
   ]
  },
  {
   "cell_type": "code",
   "execution_count": 33,
   "id": "3599f628",
   "metadata": {},
   "outputs": [
    {
     "data": {
      "text/html": [
       "<div>\n",
       "<style scoped>\n",
       "    .dataframe tbody tr th:only-of-type {\n",
       "        vertical-align: middle;\n",
       "    }\n",
       "\n",
       "    .dataframe tbody tr th {\n",
       "        vertical-align: top;\n",
       "    }\n",
       "\n",
       "    .dataframe thead th {\n",
       "        text-align: right;\n",
       "    }\n",
       "</style>\n",
       "<table border=\"1\" class=\"dataframe\">\n",
       "  <thead>\n",
       "    <tr style=\"text-align: right;\">\n",
       "      <th></th>\n",
       "      <th>Country</th>\n",
       "      <th>Happiness Rank</th>\n",
       "      <th>Obesity Percentage</th>\n",
       "    </tr>\n",
       "  </thead>\n",
       "  <tbody>\n",
       "    <tr>\n",
       "      <th>122</th>\n",
       "      <td>Afghanistan</td>\n",
       "      <td>153</td>\n",
       "      <td>5.2</td>\n",
       "    </tr>\n",
       "    <tr>\n",
       "      <th>123</th>\n",
       "      <td>Rwanda</td>\n",
       "      <td>154</td>\n",
       "      <td>5.6</td>\n",
       "    </tr>\n",
       "    <tr>\n",
       "      <th>124</th>\n",
       "      <td>Benin</td>\n",
       "      <td>155</td>\n",
       "      <td>9.3</td>\n",
       "    </tr>\n",
       "    <tr>\n",
       "      <th>125</th>\n",
       "      <td>Burundi</td>\n",
       "      <td>157</td>\n",
       "      <td>5.1</td>\n",
       "    </tr>\n",
       "    <tr>\n",
       "      <th>126</th>\n",
       "      <td>Togo</td>\n",
       "      <td>158</td>\n",
       "      <td>8.1</td>\n",
       "    </tr>\n",
       "  </tbody>\n",
       "</table>\n",
       "</div>"
      ],
      "text/plain": [
       "         Country  Happiness Rank  Obesity Percentage\n",
       "122  Afghanistan             153                 5.2\n",
       "123       Rwanda             154                 5.6\n",
       "124        Benin             155                 9.3\n",
       "125      Burundi             157                 5.1\n",
       "126         Togo             158                 8.1"
      ]
     },
     "execution_count": 33,
     "metadata": {},
     "output_type": "execute_result"
    }
   ],
   "source": [
    "data_obe_l = happiness_report_df.loc[122:126,['Country', 'Happiness Rank', 'Obesity Percentage']]\n",
    "data_obe_l"
   ]
  },
  {
   "cell_type": "code",
   "execution_count": 34,
   "id": "636ebf82",
   "metadata": {},
   "outputs": [
    {
     "data": {
      "image/png": "[encoded data removed]",
      "text/plain": [
       "<Figure size 576x360 with 1 Axes>"
      ]
     },
     "metadata": {
      "needs_background": "light"
     },
     "output_type": "display_data"
    }
   ],
   "source": [
    "#Seaborn bar plot for first 5 rank\n",
    "#Seaborn bar plot for  Last 5 ranking\n",
    "# Set figure size (width, height) in inches\n",
    "fig, ax = plt.subplots(figsize = ( 8 , 5 ))\n",
    "#plot the bar chart\n",
    "sns.barplot(x = 'Country',\n",
    "            y = 'Obesity Percentage',\n",
    "            hue = 'Happiness Rank',\n",
    "            data= data_obe_l)\n",
    "ax.set_ylim(0.0,30)\n",
    "ax.set_title(\"Country vs obesity Percentage\")\n",
    "#save and Show the plot\n",
    "plt.savefig('Images/obe_country_l.png')\n",
    "plt.show()"
   ]
  },
  {
   "cell_type": "code",
   "execution_count": 38,
   "id": "d4b9b82e",
   "metadata": {},
   "outputs": [
    {
     "data": {
      "text/html": [
       "<div>\n",
       "<style scoped>\n",
       "    .dataframe tbody tr th:only-of-type {\n",
       "        vertical-align: middle;\n",
       "    }\n",
       "\n",
       "    .dataframe tbody tr th {\n",
       "        vertical-align: top;\n",
       "    }\n",
       "\n",
       "    .dataframe thead th {\n",
       "        text-align: right;\n",
       "    }\n",
       "</style>\n",
       "<table border=\"1\" class=\"dataframe\">\n",
       "  <thead>\n",
       "    <tr style=\"text-align: right;\">\n",
       "      <th></th>\n",
       "      <th>Country</th>\n",
       "      <th>Happiness Rank</th>\n",
       "      <th>Internet 2015</th>\n",
       "    </tr>\n",
       "  </thead>\n",
       "  <tbody>\n",
       "    <tr>\n",
       "      <th>0</th>\n",
       "      <td>Switzerland</td>\n",
       "      <td>1</td>\n",
       "      <td>87.479056</td>\n",
       "    </tr>\n",
       "    <tr>\n",
       "      <th>1</th>\n",
       "      <td>Iceland</td>\n",
       "      <td>2</td>\n",
       "      <td>98.200000</td>\n",
       "    </tr>\n",
       "    <tr>\n",
       "      <th>2</th>\n",
       "      <td>Denmark</td>\n",
       "      <td>3</td>\n",
       "      <td>96.330502</td>\n",
       "    </tr>\n",
       "    <tr>\n",
       "      <th>3</th>\n",
       "      <td>Norway</td>\n",
       "      <td>4</td>\n",
       "      <td>96.810326</td>\n",
       "    </tr>\n",
       "    <tr>\n",
       "      <th>4</th>\n",
       "      <td>Canada</td>\n",
       "      <td>5</td>\n",
       "      <td>90.000000</td>\n",
       "    </tr>\n",
       "  </tbody>\n",
       "</table>\n",
       "</div>"
      ],
      "text/plain": [
       "       Country  Happiness Rank  Internet 2015\n",
       "0  Switzerland               1      87.479056\n",
       "1      Iceland               2      98.200000\n",
       "2      Denmark               3      96.330502\n",
       "3       Norway               4      96.810326\n",
       "4       Canada               5      90.000000"
      ]
     },
     "execution_count": 38,
     "metadata": {},
     "output_type": "execute_result"
    }
   ],
   "source": [
    "data_int_f = happiness_report_df.loc[0:4,['Country', 'Happiness Rank', 'Internet 2015']]\n",
    "data_int_f"
   ]
  },
  {
   "cell_type": "code",
   "execution_count": 49,
   "id": "94fb86f4",
   "metadata": {},
   "outputs": [
    {
     "data": {
      "image/png": "[encoded data removed]",
      "text/plain": [
       "<Figure size 576x360 with 1 Axes>"
      ]
     },
     "metadata": {
      "needs_background": "light"
     },
     "output_type": "display_data"
    }
   ],
   "source": [
    "#Seaborn bar plot for first 5 rank\n",
    "#Seaborn bar plot for  Last 5 ranking\n",
    "# Set figure size (width, height) in inches\n",
    "fig, ax = plt.subplots(figsize = ( 8 , 5 ))\n",
    "#plot the bar chart\n",
    "sns.barplot(x = 'Country',\n",
    "            y = 'Internet 2015',\n",
    "            hue = 'Happiness Rank',\n",
    "            data= data_int_f)\n",
    "ax.set_ylim(0.0,100)\n",
    "ax.set_title(\"Country vs Internet Usage\")\n",
    "#save and Show the plot\n",
    "plt.savefig('Images/int_country_f.png')\n",
    "plt.show()"
   ]
  },
  {
   "cell_type": "code",
   "execution_count": 45,
   "id": "c65b7ee4",
   "metadata": {},
   "outputs": [
    {
     "data": {
      "text/html": [
       "<div>\n",
       "<style scoped>\n",
       "    .dataframe tbody tr th:only-of-type {\n",
       "        vertical-align: middle;\n",
       "    }\n",
       "\n",
       "    .dataframe tbody tr th {\n",
       "        vertical-align: top;\n",
       "    }\n",
       "\n",
       "    .dataframe thead th {\n",
       "        text-align: right;\n",
       "    }\n",
       "</style>\n",
       "<table border=\"1\" class=\"dataframe\">\n",
       "  <thead>\n",
       "    <tr style=\"text-align: right;\">\n",
       "      <th></th>\n",
       "      <th>Country</th>\n",
       "      <th>Happiness Rank</th>\n",
       "      <th>Internet 2015</th>\n",
       "    </tr>\n",
       "  </thead>\n",
       "  <tbody>\n",
       "    <tr>\n",
       "      <th>122</th>\n",
       "      <td>Afghanistan</td>\n",
       "      <td>153</td>\n",
       "      <td>8.260000</td>\n",
       "    </tr>\n",
       "    <tr>\n",
       "      <th>123</th>\n",
       "      <td>Rwanda</td>\n",
       "      <td>154</td>\n",
       "      <td>18.000000</td>\n",
       "    </tr>\n",
       "    <tr>\n",
       "      <th>124</th>\n",
       "      <td>Benin</td>\n",
       "      <td>155</td>\n",
       "      <td>11.254988</td>\n",
       "    </tr>\n",
       "    <tr>\n",
       "      <th>125</th>\n",
       "      <td>Burundi</td>\n",
       "      <td>157</td>\n",
       "      <td>2.000000</td>\n",
       "    </tr>\n",
       "    <tr>\n",
       "      <th>126</th>\n",
       "      <td>Togo</td>\n",
       "      <td>158</td>\n",
       "      <td>7.120000</td>\n",
       "    </tr>\n",
       "  </tbody>\n",
       "</table>\n",
       "</div>"
      ],
      "text/plain": [
       "         Country  Happiness Rank  Internet 2015\n",
       "122  Afghanistan             153       8.260000\n",
       "123       Rwanda             154      18.000000\n",
       "124        Benin             155      11.254988\n",
       "125      Burundi             157       2.000000\n",
       "126         Togo             158       7.120000"
      ]
     },
     "execution_count": 45,
     "metadata": {},
     "output_type": "execute_result"
    }
   ],
   "source": [
    "data_int_l = happiness_report_df.loc[122:126,['Country', 'Happiness Rank', 'Internet 2015']]\n",
    "data_int_l"
   ]
  },
  {
   "cell_type": "code",
   "execution_count": 48,
   "id": "fe034c56",
   "metadata": {},
   "outputs": [
    {
     "data": {
      "image/png": "[encoded data removed]",
      "text/plain": [
       "<Figure size 576x360 with 1 Axes>"
      ]
     },
     "metadata": {
      "needs_background": "light"
     },
     "output_type": "display_data"
    }
   ],
   "source": [
    "#Seaborn bar plot for first 5 rank\n",
    "#Seaborn bar plot for  Last 5 ranking\n",
    "# Set figure size (width, height) in inches\n",
    "fig, ax = plt.subplots(figsize = ( 8 , 5 ))\n",
    "#plot the bar chart\n",
    "sns.barplot(x = 'Country',\n",
    "            y = 'Internet 2015',\n",
    "            hue = 'Happiness Rank',\n",
    "            data= data_int_l)\n",
    "ax.set_ylim(0.0,30)\n",
    "ax.set_title(\"Country vs Internet Usage\")\n",
    "#save and Show the plot\n",
    "plt.savefig('Images/int_country_l.png')\n",
    "plt.show()"
   ]
  },
  {
   "cell_type": "code",
   "execution_count": 50,
   "id": "70a369af",
   "metadata": {},
   "outputs": [
    {
     "data": {
      "text/html": [
       "<div>\n",
       "<style scoped>\n",
       "    .dataframe tbody tr th:only-of-type {\n",
       "        vertical-align: middle;\n",
       "    }\n",
       "\n",
       "    .dataframe tbody tr th {\n",
       "        vertical-align: top;\n",
       "    }\n",
       "\n",
       "    .dataframe thead th {\n",
       "        text-align: right;\n",
       "    }\n",
       "</style>\n",
       "<table border=\"1\" class=\"dataframe\">\n",
       "  <thead>\n",
       "    <tr style=\"text-align: right;\">\n",
       "      <th></th>\n",
       "      <th>Country</th>\n",
       "      <th>Happiness Rank</th>\n",
       "      <th>Total alcohol consumption per capita</th>\n",
       "    </tr>\n",
       "  </thead>\n",
       "  <tbody>\n",
       "    <tr>\n",
       "      <th>0</th>\n",
       "      <td>Switzerland</td>\n",
       "      <td>1</td>\n",
       "      <td>11.58</td>\n",
       "    </tr>\n",
       "    <tr>\n",
       "      <th>1</th>\n",
       "      <td>Iceland</td>\n",
       "      <td>2</td>\n",
       "      <td>8.74</td>\n",
       "    </tr>\n",
       "    <tr>\n",
       "      <th>2</th>\n",
       "      <td>Denmark</td>\n",
       "      <td>3</td>\n",
       "      <td>10.36</td>\n",
       "    </tr>\n",
       "    <tr>\n",
       "      <th>3</th>\n",
       "      <td>Norway</td>\n",
       "      <td>4</td>\n",
       "      <td>7.52</td>\n",
       "    </tr>\n",
       "    <tr>\n",
       "      <th>4</th>\n",
       "      <td>Canada</td>\n",
       "      <td>5</td>\n",
       "      <td>8.88</td>\n",
       "    </tr>\n",
       "  </tbody>\n",
       "</table>\n",
       "</div>"
      ],
      "text/plain": [
       "       Country  Happiness Rank  Total alcohol consumption per capita\n",
       "0  Switzerland               1                                 11.58\n",
       "1      Iceland               2                                  8.74\n",
       "2      Denmark               3                                 10.36\n",
       "3       Norway               4                                  7.52\n",
       "4       Canada               5                                  8.88"
      ]
     },
     "execution_count": 50,
     "metadata": {},
     "output_type": "execute_result"
    }
   ],
   "source": [
    "data_alc_f = happiness_report_df.loc[0:4,['Country', 'Happiness Rank', 'Total alcohol consumption per capita']]\n",
    "data_alc_f"
   ]
  },
  {
   "cell_type": "code",
   "execution_count": 63,
   "id": "ef06416a",
   "metadata": {},
   "outputs": [
    {
     "data": {
      "image/png": "[encoded data removed]",
      "text/plain": [
       "<Figure size 576x360 with 1 Axes>"
      ]
     },
     "metadata": {
      "needs_background": "light"
     },
     "output_type": "display_data"
    }
   ],
   "source": [
    "#Seaborn bar plot for first 5 rank\n",
    "#Seaborn bar plot for  Last 5 ranking\n",
    "# Set figure size (width, height) in inches\n",
    "fig, ax = plt.subplots(figsize = ( 8 , 5 ))\n",
    "#plot the bar chart\n",
    "sns.barplot(x = 'Country',\n",
    "            y = 'Total alcohol consumption per capita',\n",
    "            hue = 'Happiness Rank',\n",
    "            data= data_alc_f)\n",
    "ax.set_ylim(0.0,14)\n",
    "ax.set_title(\"Country vs Total alcohol consumption per capita\")\n",
    "#save and Show the plot\n",
    "plt.savefig('Images/alc_country_f.png')\n",
    "plt.show()"
   ]
  },
  {
   "cell_type": "code",
   "execution_count": 54,
   "id": "3888c98a",
   "metadata": {},
   "outputs": [
    {
     "data": {
      "text/html": [
       "<div>\n",
       "<style scoped>\n",
       "    .dataframe tbody tr th:only-of-type {\n",
       "        vertical-align: middle;\n",
       "    }\n",
       "\n",
       "    .dataframe tbody tr th {\n",
       "        vertical-align: top;\n",
       "    }\n",
       "\n",
       "    .dataframe thead th {\n",
       "        text-align: right;\n",
       "    }\n",
       "</style>\n",
       "<table border=\"1\" class=\"dataframe\">\n",
       "  <thead>\n",
       "    <tr style=\"text-align: right;\">\n",
       "      <th></th>\n",
       "      <th>Country</th>\n",
       "      <th>Happiness Rank</th>\n",
       "      <th>Total alcohol consumption per capita</th>\n",
       "    </tr>\n",
       "  </thead>\n",
       "  <tbody>\n",
       "    <tr>\n",
       "      <th>122</th>\n",
       "      <td>Afghanistan</td>\n",
       "      <td>153</td>\n",
       "      <td>0.21</td>\n",
       "    </tr>\n",
       "    <tr>\n",
       "      <th>123</th>\n",
       "      <td>Rwanda</td>\n",
       "      <td>154</td>\n",
       "      <td>9.26</td>\n",
       "    </tr>\n",
       "    <tr>\n",
       "      <th>124</th>\n",
       "      <td>Benin</td>\n",
       "      <td>155</td>\n",
       "      <td>2.97</td>\n",
       "    </tr>\n",
       "    <tr>\n",
       "      <th>125</th>\n",
       "      <td>Burundi</td>\n",
       "      <td>157</td>\n",
       "      <td>7.03</td>\n",
       "    </tr>\n",
       "    <tr>\n",
       "      <th>126</th>\n",
       "      <td>Togo</td>\n",
       "      <td>158</td>\n",
       "      <td>2.37</td>\n",
       "    </tr>\n",
       "  </tbody>\n",
       "</table>\n",
       "</div>"
      ],
      "text/plain": [
       "         Country  Happiness Rank  Total alcohol consumption per capita\n",
       "122  Afghanistan             153                                  0.21\n",
       "123       Rwanda             154                                  9.26\n",
       "124        Benin             155                                  2.97\n",
       "125      Burundi             157                                  7.03\n",
       "126         Togo             158                                  2.37"
      ]
     },
     "execution_count": 54,
     "metadata": {},
     "output_type": "execute_result"
    }
   ],
   "source": [
    "data_alc_l = happiness_report_df.loc[122:126,['Country', 'Happiness Rank', 'Total alcohol consumption per capita']]\n",
    "data_alc_l"
   ]
  },
  {
   "cell_type": "code",
   "execution_count": 64,
   "id": "10e6c043",
   "metadata": {},
   "outputs": [
    {
     "data": {
      "image/png": "[encoded data removed]",
      "text/plain": [
       "<Figure size 576x360 with 1 Axes>"
      ]
     },
     "metadata": {
      "needs_background": "light"
     },
     "output_type": "display_data"
    }
   ],
   "source": [
    "#Seaborn bar plot for first 5 rank\n",
    "#Seaborn bar plot for  Last 5 ranking\n",
    "# Set figure size (width, height) in inches\n",
    "fig, ax = plt.subplots(figsize = ( 8 , 5 ))\n",
    "#plot the bar chart\n",
    "sns.barplot(x = 'Country',\n",
    "            y = 'Total alcohol consumption per capita',\n",
    "            hue = 'Happiness Rank',\n",
    "            data= data_alc_l)\n",
    "ax.set_ylim(0.0,14)\n",
    "ax.set_title(\"Country vs Total alcohol consumption per capita\")\n",
    "#save and Show the plot\n",
    "plt.savefig('Images/alc_country_l.png')\n",
    "plt.show()"
   ]
  },
  {
   "cell_type": "code",
   "execution_count": null,
   "id": "4100b0cf",
   "metadata": {},
   "outputs": [],
   "source": []
  }
 ],
 "metadata": {
  "kernelspec": {
   "display_name": "PythonData",
   "language": "python",
   "name": "pythondata"
  },
  "language_info": {
   "codemirror_mode": {
    "name": "ipython",
    "version": 3
   },
   "file_extension": ".py",
   "mimetype": "text/x-python",
   "name": "python",
   "nbconvert_exporter": "python",
   "pygments_lexer": "ipython3",
   "version": "3.7.7"
  }
 },
 "nbformat": 4,
 "nbformat_minor": 5
}
