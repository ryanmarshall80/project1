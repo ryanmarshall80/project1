{
 "cells": [
  {
   "cell_type": "code",
   "execution_count": 1,
   "id": "4ef6c54e",
   "metadata": {},
   "outputs": [],
   "source": [
    "#import dependencies\n",
    "\n",
    "import pandas as pd\n",
    "import matplotlib.pyplot as plt\n",
    "import numpy as np\n",
    "import requests\n",
    "import scipy.stats as st\n",
    "from scipy.stats import linregress"
   ]
  },
  {
   "cell_type": "code",
   "execution_count": 2,
   "id": "8e119786",
   "metadata": {
    "scrolled": true
   },
   "outputs": [],
   "source": [
    "happy_path2015 = \"Resources/2015.csv\"\n",
    "happy_df2015 = pd.read_csv(happy_path2015)\n"
   ]
  },
  {
   "cell_type": "code",
   "execution_count": 3,
   "id": "91a22ec4",
   "metadata": {},
   "outputs": [],
   "source": [
    "happy_path2016 = \"Resources/2016.csv\"\n",
    "happy_df2016 = pd.read_csv(happy_path2016)"
   ]
  },
  {
   "cell_type": "code",
   "execution_count": 4,
   "id": "b8fa576d",
   "metadata": {},
   "outputs": [],
   "source": [
    "happy_path2022 = \"Resources/2022.csv\"\n",
    "happy_df2022 = pd.read_csv(happy_path2022)"
   ]
  },
  {
   "cell_type": "markdown",
   "id": "da960b47",
   "metadata": {},
   "source": [
    "**The Top 5 Happiest Countries of 2015**"
   ]
  },
  {
   "cell_type": "code",
   "execution_count": 5,
   "id": "75cdc108",
   "metadata": {
    "scrolled": true
   },
   "outputs": [
    {
     "data": {
      "text/html": [
       "<div>\n",
       "<style scoped>\n",
       "    .dataframe tbody tr th:only-of-type {\n",
       "        vertical-align: middle;\n",
       "    }\n",
       "\n",
       "    .dataframe tbody tr th {\n",
       "        vertical-align: top;\n",
       "    }\n",
       "\n",
       "    .dataframe thead th {\n",
       "        text-align: right;\n",
       "    }\n",
       "</style>\n",
       "<table border=\"1\" class=\"dataframe\">\n",
       "  <thead>\n",
       "    <tr style=\"text-align: right;\">\n",
       "      <th></th>\n",
       "      <th>Country</th>\n",
       "      <th>Happiness Score</th>\n",
       "    </tr>\n",
       "  </thead>\n",
       "  <tbody>\n",
       "    <tr>\n",
       "      <th>0</th>\n",
       "      <td>Switzerland</td>\n",
       "      <td>7.587</td>\n",
       "    </tr>\n",
       "    <tr>\n",
       "      <th>1</th>\n",
       "      <td>Iceland</td>\n",
       "      <td>7.561</td>\n",
       "    </tr>\n",
       "    <tr>\n",
       "      <th>2</th>\n",
       "      <td>Denmark</td>\n",
       "      <td>7.527</td>\n",
       "    </tr>\n",
       "    <tr>\n",
       "      <th>3</th>\n",
       "      <td>Norway</td>\n",
       "      <td>7.522</td>\n",
       "    </tr>\n",
       "    <tr>\n",
       "      <th>4</th>\n",
       "      <td>Canada</td>\n",
       "      <td>7.427</td>\n",
       "    </tr>\n",
       "  </tbody>\n",
       "</table>\n",
       "</div>"
      ],
      "text/plain": [
       "       Country  Happiness Score\n",
       "0  Switzerland            7.587\n",
       "1      Iceland            7.561\n",
       "2      Denmark            7.527\n",
       "3       Norway            7.522\n",
       "4       Canada            7.427"
      ]
     },
     "execution_count": 5,
     "metadata": {},
     "output_type": "execute_result"
    }
   ],
   "source": [
    "happy_df2015.sort_values(by=['Happiness Score'], ascending=False)\n",
    "happy_df2015[['Country','Happiness Score']].head()"
   ]
  },
  {
   "cell_type": "markdown",
   "id": "fa763fab",
   "metadata": {},
   "source": [
    "**The 5 Least Happiest Countries of 2015**"
   ]
  },
  {
   "cell_type": "code",
   "execution_count": 6,
   "id": "e9cc5d4e",
   "metadata": {},
   "outputs": [
    {
     "data": {
      "text/html": [
       "<div>\n",
       "<style scoped>\n",
       "    .dataframe tbody tr th:only-of-type {\n",
       "        vertical-align: middle;\n",
       "    }\n",
       "\n",
       "    .dataframe tbody tr th {\n",
       "        vertical-align: top;\n",
       "    }\n",
       "\n",
       "    .dataframe thead th {\n",
       "        text-align: right;\n",
       "    }\n",
       "</style>\n",
       "<table border=\"1\" class=\"dataframe\">\n",
       "  <thead>\n",
       "    <tr style=\"text-align: right;\">\n",
       "      <th></th>\n",
       "      <th>Country</th>\n",
       "      <th>Happiness Score</th>\n",
       "    </tr>\n",
       "  </thead>\n",
       "  <tbody>\n",
       "    <tr>\n",
       "      <th>153</th>\n",
       "      <td>Rwanda</td>\n",
       "      <td>3.465</td>\n",
       "    </tr>\n",
       "    <tr>\n",
       "      <th>154</th>\n",
       "      <td>Benin</td>\n",
       "      <td>3.340</td>\n",
       "    </tr>\n",
       "    <tr>\n",
       "      <th>155</th>\n",
       "      <td>Syria</td>\n",
       "      <td>3.006</td>\n",
       "    </tr>\n",
       "    <tr>\n",
       "      <th>156</th>\n",
       "      <td>Burundi</td>\n",
       "      <td>2.905</td>\n",
       "    </tr>\n",
       "    <tr>\n",
       "      <th>157</th>\n",
       "      <td>Togo</td>\n",
       "      <td>2.839</td>\n",
       "    </tr>\n",
       "  </tbody>\n",
       "</table>\n",
       "</div>"
      ],
      "text/plain": [
       "     Country  Happiness Score\n",
       "153   Rwanda            3.465\n",
       "154    Benin            3.340\n",
       "155    Syria            3.006\n",
       "156  Burundi            2.905\n",
       "157     Togo            2.839"
      ]
     },
     "execution_count": 6,
     "metadata": {},
     "output_type": "execute_result"
    }
   ],
   "source": [
    "happy_df2015.sort_values(by=['Happiness Score'])\n",
    "happy_df2015[['Country','Happiness Score']].tail()"
   ]
  },
  {
   "cell_type": "code",
   "execution_count": 7,
   "id": "7f162765",
   "metadata": {},
   "outputs": [],
   "source": [
    "alco_path = 'Resources/alcohol.csv'\n",
    "alco_df = pd.read_csv(alco_path)\n",
    "alco_df = alco_df.loc[alco_df['Year'] ==2015]\n",
    "alco_df=alco_df.rename(columns={\"Entity\":\"Country\"})"
   ]
  },
  {
   "cell_type": "code",
   "execution_count": 8,
   "id": "1a5341ee",
   "metadata": {},
   "outputs": [
    {
     "data": {
      "text/html": [
       "<div>\n",
       "<style scoped>\n",
       "    .dataframe tbody tr th:only-of-type {\n",
       "        vertical-align: middle;\n",
       "    }\n",
       "\n",
       "    .dataframe tbody tr th {\n",
       "        vertical-align: top;\n",
       "    }\n",
       "\n",
       "    .dataframe thead th {\n",
       "        text-align: right;\n",
       "    }\n",
       "</style>\n",
       "<table border=\"1\" class=\"dataframe\">\n",
       "  <thead>\n",
       "    <tr style=\"text-align: right;\">\n",
       "      <th></th>\n",
       "      <th>Happiness Rank</th>\n",
       "      <th>Happiness Score</th>\n",
       "      <th>Standard Error</th>\n",
       "      <th>Economy (GDP per Capita)</th>\n",
       "      <th>Family</th>\n",
       "      <th>Health (Life Expectancy)</th>\n",
       "      <th>Freedom</th>\n",
       "      <th>Trust (Government Corruption)</th>\n",
       "      <th>Generosity</th>\n",
       "      <th>Dystopia Residual</th>\n",
       "      <th>Year</th>\n",
       "      <th>Total alcohol consumption per capita (liters of pure alcohol, projected estimates, 15+ years of age)</th>\n",
       "    </tr>\n",
       "  </thead>\n",
       "  <tbody>\n",
       "    <tr>\n",
       "      <th>Happiness Rank</th>\n",
       "      <td>1.000000</td>\n",
       "      <td>-0.991919</td>\n",
       "      <td>0.145989</td>\n",
       "      <td>-0.793020</td>\n",
       "      <td>-0.735341</td>\n",
       "      <td>-0.741027</td>\n",
       "      <td>-0.570053</td>\n",
       "      <td>-0.403105</td>\n",
       "      <td>-0.161209</td>\n",
       "      <td>-0.545235</td>\n",
       "      <td>NaN</td>\n",
       "      <td>-0.334005</td>\n",
       "    </tr>\n",
       "    <tr>\n",
       "      <th>Happiness Score</th>\n",
       "      <td>-0.991919</td>\n",
       "      <td>1.000000</td>\n",
       "      <td>-0.165831</td>\n",
       "      <td>0.790159</td>\n",
       "      <td>0.741532</td>\n",
       "      <td>0.731979</td>\n",
       "      <td>0.581782</td>\n",
       "      <td>0.426938</td>\n",
       "      <td>0.183575</td>\n",
       "      <td>0.551592</td>\n",
       "      <td>NaN</td>\n",
       "      <td>0.335273</td>\n",
       "    </tr>\n",
       "    <tr>\n",
       "      <th>Standard Error</th>\n",
       "      <td>0.145989</td>\n",
       "      <td>-0.165831</td>\n",
       "      <td>1.000000</td>\n",
       "      <td>-0.223848</td>\n",
       "      <td>-0.117255</td>\n",
       "      <td>-0.299712</td>\n",
       "      <td>-0.132581</td>\n",
       "      <td>-0.192750</td>\n",
       "      <td>-0.096593</td>\n",
       "      <td>0.103818</td>\n",
       "      <td>NaN</td>\n",
       "      <td>-0.151177</td>\n",
       "    </tr>\n",
       "    <tr>\n",
       "      <th>Economy (GDP per Capita)</th>\n",
       "      <td>-0.793020</td>\n",
       "      <td>0.790159</td>\n",
       "      <td>-0.223848</td>\n",
       "      <td>1.000000</td>\n",
       "      <td>0.660848</td>\n",
       "      <td>0.818808</td>\n",
       "      <td>0.361675</td>\n",
       "      <td>0.341452</td>\n",
       "      <td>-0.003355</td>\n",
       "      <td>0.078160</td>\n",
       "      <td>NaN</td>\n",
       "      <td>0.378159</td>\n",
       "    </tr>\n",
       "    <tr>\n",
       "      <th>Family</th>\n",
       "      <td>-0.735341</td>\n",
       "      <td>0.741532</td>\n",
       "      <td>-0.117255</td>\n",
       "      <td>0.660848</td>\n",
       "      <td>1.000000</td>\n",
       "      <td>0.549152</td>\n",
       "      <td>0.450042</td>\n",
       "      <td>0.219883</td>\n",
       "      <td>0.088235</td>\n",
       "      <td>0.148039</td>\n",
       "      <td>NaN</td>\n",
       "      <td>0.490964</td>\n",
       "    </tr>\n",
       "    <tr>\n",
       "      <th>Health (Life Expectancy)</th>\n",
       "      <td>-0.741027</td>\n",
       "      <td>0.731979</td>\n",
       "      <td>-0.299712</td>\n",
       "      <td>0.818808</td>\n",
       "      <td>0.549152</td>\n",
       "      <td>1.000000</td>\n",
       "      <td>0.355600</td>\n",
       "      <td>0.259382</td>\n",
       "      <td>0.105545</td>\n",
       "      <td>0.059575</td>\n",
       "      <td>NaN</td>\n",
       "      <td>0.372068</td>\n",
       "    </tr>\n",
       "    <tr>\n",
       "      <th>Freedom</th>\n",
       "      <td>-0.570053</td>\n",
       "      <td>0.581782</td>\n",
       "      <td>-0.132581</td>\n",
       "      <td>0.361675</td>\n",
       "      <td>0.450042</td>\n",
       "      <td>0.355600</td>\n",
       "      <td>1.000000</td>\n",
       "      <td>0.487291</td>\n",
       "      <td>0.376298</td>\n",
       "      <td>0.113638</td>\n",
       "      <td>NaN</td>\n",
       "      <td>0.215707</td>\n",
       "    </tr>\n",
       "    <tr>\n",
       "      <th>Trust (Government Corruption)</th>\n",
       "      <td>-0.403105</td>\n",
       "      <td>0.426938</td>\n",
       "      <td>-0.192750</td>\n",
       "      <td>0.341452</td>\n",
       "      <td>0.219883</td>\n",
       "      <td>0.259382</td>\n",
       "      <td>0.487291</td>\n",
       "      <td>1.000000</td>\n",
       "      <td>0.240449</td>\n",
       "      <td>0.021124</td>\n",
       "      <td>NaN</td>\n",
       "      <td>0.004182</td>\n",
       "    </tr>\n",
       "    <tr>\n",
       "      <th>Generosity</th>\n",
       "      <td>-0.161209</td>\n",
       "      <td>0.183575</td>\n",
       "      <td>-0.096593</td>\n",
       "      <td>-0.003355</td>\n",
       "      <td>0.088235</td>\n",
       "      <td>0.105545</td>\n",
       "      <td>0.376298</td>\n",
       "      <td>0.240449</td>\n",
       "      <td>1.000000</td>\n",
       "      <td>-0.089465</td>\n",
       "      <td>NaN</td>\n",
       "      <td>-0.023808</td>\n",
       "    </tr>\n",
       "    <tr>\n",
       "      <th>Dystopia Residual</th>\n",
       "      <td>-0.545235</td>\n",
       "      <td>0.551592</td>\n",
       "      <td>0.103818</td>\n",
       "      <td>0.078160</td>\n",
       "      <td>0.148039</td>\n",
       "      <td>0.059575</td>\n",
       "      <td>0.113638</td>\n",
       "      <td>0.021124</td>\n",
       "      <td>-0.089465</td>\n",
       "      <td>1.000000</td>\n",
       "      <td>NaN</td>\n",
       "      <td>-0.032856</td>\n",
       "    </tr>\n",
       "    <tr>\n",
       "      <th>Year</th>\n",
       "      <td>NaN</td>\n",
       "      <td>NaN</td>\n",
       "      <td>NaN</td>\n",
       "      <td>NaN</td>\n",
       "      <td>NaN</td>\n",
       "      <td>NaN</td>\n",
       "      <td>NaN</td>\n",
       "      <td>NaN</td>\n",
       "      <td>NaN</td>\n",
       "      <td>NaN</td>\n",
       "      <td>NaN</td>\n",
       "      <td>NaN</td>\n",
       "    </tr>\n",
       "    <tr>\n",
       "      <th>Total alcohol consumption per capita (liters of pure alcohol, projected estimates, 15+ years of age)</th>\n",
       "      <td>-0.334005</td>\n",
       "      <td>0.335273</td>\n",
       "      <td>-0.151177</td>\n",
       "      <td>0.378159</td>\n",
       "      <td>0.490964</td>\n",
       "      <td>0.372068</td>\n",
       "      <td>0.215707</td>\n",
       "      <td>0.004182</td>\n",
       "      <td>-0.023808</td>\n",
       "      <td>-0.032856</td>\n",
       "      <td>NaN</td>\n",
       "      <td>1.000000</td>\n",
       "    </tr>\n",
       "  </tbody>\n",
       "</table>\n",
       "</div>"
      ],
      "text/plain": [
       "                                                    Happiness Rank  \\\n",
       "Happiness Rank                                            1.000000   \n",
       "Happiness Score                                          -0.991919   \n",
       "Standard Error                                            0.145989   \n",
       "Economy (GDP per Capita)                                 -0.793020   \n",
       "Family                                                   -0.735341   \n",
       "Health (Life Expectancy)                                 -0.741027   \n",
       "Freedom                                                  -0.570053   \n",
       "Trust (Government Corruption)                            -0.403105   \n",
       "Generosity                                               -0.161209   \n",
       "Dystopia Residual                                        -0.545235   \n",
       "Year                                                           NaN   \n",
       "Total alcohol consumption per capita (liters of...       -0.334005   \n",
       "\n",
       "                                                    Happiness Score  \\\n",
       "Happiness Rank                                            -0.991919   \n",
       "Happiness Score                                            1.000000   \n",
       "Standard Error                                            -0.165831   \n",
       "Economy (GDP per Capita)                                   0.790159   \n",
       "Family                                                     0.741532   \n",
       "Health (Life Expectancy)                                   0.731979   \n",
       "Freedom                                                    0.581782   \n",
       "Trust (Government Corruption)                              0.426938   \n",
       "Generosity                                                 0.183575   \n",
       "Dystopia Residual                                          0.551592   \n",
       "Year                                                            NaN   \n",
       "Total alcohol consumption per capita (liters of...         0.335273   \n",
       "\n",
       "                                                    Standard Error  \\\n",
       "Happiness Rank                                            0.145989   \n",
       "Happiness Score                                          -0.165831   \n",
       "Standard Error                                            1.000000   \n",
       "Economy (GDP per Capita)                                 -0.223848   \n",
       "Family                                                   -0.117255   \n",
       "Health (Life Expectancy)                                 -0.299712   \n",
       "Freedom                                                  -0.132581   \n",
       "Trust (Government Corruption)                            -0.192750   \n",
       "Generosity                                               -0.096593   \n",
       "Dystopia Residual                                         0.103818   \n",
       "Year                                                           NaN   \n",
       "Total alcohol consumption per capita (liters of...       -0.151177   \n",
       "\n",
       "                                                    Economy (GDP per Capita)  \\\n",
       "Happiness Rank                                                     -0.793020   \n",
       "Happiness Score                                                     0.790159   \n",
       "Standard Error                                                     -0.223848   \n",
       "Economy (GDP per Capita)                                            1.000000   \n",
       "Family                                                              0.660848   \n",
       "Health (Life Expectancy)                                            0.818808   \n",
       "Freedom                                                             0.361675   \n",
       "Trust (Government Corruption)                                       0.341452   \n",
       "Generosity                                                         -0.003355   \n",
       "Dystopia Residual                                                   0.078160   \n",
       "Year                                                                     NaN   \n",
       "Total alcohol consumption per capita (liters of...                  0.378159   \n",
       "\n",
       "                                                      Family  \\\n",
       "Happiness Rank                                     -0.735341   \n",
       "Happiness Score                                     0.741532   \n",
       "Standard Error                                     -0.117255   \n",
       "Economy (GDP per Capita)                            0.660848   \n",
       "Family                                              1.000000   \n",
       "Health (Life Expectancy)                            0.549152   \n",
       "Freedom                                             0.450042   \n",
       "Trust (Government Corruption)                       0.219883   \n",
       "Generosity                                          0.088235   \n",
       "Dystopia Residual                                   0.148039   \n",
       "Year                                                     NaN   \n",
       "Total alcohol consumption per capita (liters of...  0.490964   \n",
       "\n",
       "                                                    Health (Life Expectancy)  \\\n",
       "Happiness Rank                                                     -0.741027   \n",
       "Happiness Score                                                     0.731979   \n",
       "Standard Error                                                     -0.299712   \n",
       "Economy (GDP per Capita)                                            0.818808   \n",
       "Family                                                              0.549152   \n",
       "Health (Life Expectancy)                                            1.000000   \n",
       "Freedom                                                             0.355600   \n",
       "Trust (Government Corruption)                                       0.259382   \n",
       "Generosity                                                          0.105545   \n",
       "Dystopia Residual                                                   0.059575   \n",
       "Year                                                                     NaN   \n",
       "Total alcohol consumption per capita (liters of...                  0.372068   \n",
       "\n",
       "                                                     Freedom  \\\n",
       "Happiness Rank                                     -0.570053   \n",
       "Happiness Score                                     0.581782   \n",
       "Standard Error                                     -0.132581   \n",
       "Economy (GDP per Capita)                            0.361675   \n",
       "Family                                              0.450042   \n",
       "Health (Life Expectancy)                            0.355600   \n",
       "Freedom                                             1.000000   \n",
       "Trust (Government Corruption)                       0.487291   \n",
       "Generosity                                          0.376298   \n",
       "Dystopia Residual                                   0.113638   \n",
       "Year                                                     NaN   \n",
       "Total alcohol consumption per capita (liters of...  0.215707   \n",
       "\n",
       "                                                    Trust (Government Corruption)  \\\n",
       "Happiness Rank                                                          -0.403105   \n",
       "Happiness Score                                                          0.426938   \n",
       "Standard Error                                                          -0.192750   \n",
       "Economy (GDP per Capita)                                                 0.341452   \n",
       "Family                                                                   0.219883   \n",
       "Health (Life Expectancy)                                                 0.259382   \n",
       "Freedom                                                                  0.487291   \n",
       "Trust (Government Corruption)                                            1.000000   \n",
       "Generosity                                                               0.240449   \n",
       "Dystopia Residual                                                        0.021124   \n",
       "Year                                                                          NaN   \n",
       "Total alcohol consumption per capita (liters of...                       0.004182   \n",
       "\n",
       "                                                    Generosity  \\\n",
       "Happiness Rank                                       -0.161209   \n",
       "Happiness Score                                       0.183575   \n",
       "Standard Error                                       -0.096593   \n",
       "Economy (GDP per Capita)                             -0.003355   \n",
       "Family                                                0.088235   \n",
       "Health (Life Expectancy)                              0.105545   \n",
       "Freedom                                               0.376298   \n",
       "Trust (Government Corruption)                         0.240449   \n",
       "Generosity                                            1.000000   \n",
       "Dystopia Residual                                    -0.089465   \n",
       "Year                                                       NaN   \n",
       "Total alcohol consumption per capita (liters of...   -0.023808   \n",
       "\n",
       "                                                    Dystopia Residual  Year  \\\n",
       "Happiness Rank                                              -0.545235   NaN   \n",
       "Happiness Score                                              0.551592   NaN   \n",
       "Standard Error                                               0.103818   NaN   \n",
       "Economy (GDP per Capita)                                     0.078160   NaN   \n",
       "Family                                                       0.148039   NaN   \n",
       "Health (Life Expectancy)                                     0.059575   NaN   \n",
       "Freedom                                                      0.113638   NaN   \n",
       "Trust (Government Corruption)                                0.021124   NaN   \n",
       "Generosity                                                  -0.089465   NaN   \n",
       "Dystopia Residual                                            1.000000   NaN   \n",
       "Year                                                              NaN   NaN   \n",
       "Total alcohol consumption per capita (liters of...          -0.032856   NaN   \n",
       "\n",
       "                                                    Total alcohol consumption per capita (liters of pure alcohol, projected estimates, 15+ years of age)  \n",
       "Happiness Rank                                                                              -0.334005                                                     \n",
       "Happiness Score                                                                              0.335273                                                     \n",
       "Standard Error                                                                              -0.151177                                                     \n",
       "Economy (GDP per Capita)                                                                     0.378159                                                     \n",
       "Family                                                                                       0.490964                                                     \n",
       "Health (Life Expectancy)                                                                     0.372068                                                     \n",
       "Freedom                                                                                      0.215707                                                     \n",
       "Trust (Government Corruption)                                                                0.004182                                                     \n",
       "Generosity                                                                                  -0.023808                                                     \n",
       "Dystopia Residual                                                                           -0.032856                                                     \n",
       "Year                                                                                              NaN                                                     \n",
       "Total alcohol consumption per capita (liters of...                                           1.000000                                                     "
      ]
     },
     "execution_count": 8,
     "metadata": {},
     "output_type": "execute_result"
    }
   ],
   "source": [
    "happy_alco = pd.merge(happy_df2015,alco_df, on=\"Country\")\n",
    "happy_alco.corr()"
   ]
  },
  {
   "cell_type": "code",
   "execution_count": 9,
   "id": "bb749078",
   "metadata": {
    "scrolled": true
   },
   "outputs": [
    {
     "data": {
      "image/png": "[encoded data removed]",
      "text/plain": [
       "<Figure size 432x288 with 1 Axes>"
      ]
     },
     "metadata": {
      "needs_background": "light"
     },
     "output_type": "display_data"
    }
   ],
   "source": [
    "happy_alco.plot.scatter(\"Total alcohol consumption per capita (liters of pure alcohol, projected estimates, 15+ years of age)\",'Happiness Score',c='red')\n",
    "plt.savefig('Images/happiness_vs_alcohol.png')"
   ]
  },
  {
   "cell_type": "code",
   "execution_count": 10,
   "id": "15f6cd8d",
   "metadata": {
    "scrolled": true
   },
   "outputs": [
    {
     "name": "stdout",
     "output_type": "stream",
     "text": [
      "Correlation value is 0.7809655268660214\n"
     ]
    },
    {
     "data": {
      "image/png": "[encoded data removed]",
      "text/plain": [
       "<Figure size 432x288 with 1 Axes>"
      ]
     },
     "metadata": {
      "needs_background": "light"
     },
     "output_type": "display_data"
    }
   ],
   "source": [
    "x_values = happy_df2015[\"Economy (GDP per Capita)\"]\n",
    "y_values = happy_df2015[\"Happiness Score\"]\n",
    "correlation = st.pearsonr(x_values,y_values)\n",
    "(slope, intercept, rvalue, pvalue, stderr) = linregress(x_values, y_values)\n",
    "regress_values = x_values * slope + intercept\n",
    "line_eq = \"y = \" + str(round(slope,2)) + \"x + \" + str(round(intercept,2))\n",
    "plt.scatter(x_values,y_values,c='green')\n",
    "plt.plot(x_values,regress_values,\"r-\")\n",
    "plt.annotate(line_eq,(1.00,3),fontsize=15,color=\"red\")\n",
    "plt.xlabel('Economy (GDP per Capita)')\n",
    "plt.ylabel('Happiness Score')\n",
    "print(f\"Correlation value is {correlation[0]}\")\n",
    "plt.savefig('Images/happiness_vs_economy.png')\n",
    "plt.show()"
   ]
  },
  {
   "cell_type": "code",
   "execution_count": 11,
   "id": "060198a2",
   "metadata": {
    "scrolled": true
   },
   "outputs": [],
   "source": [
    "internet_path = 'Resources/Internet Usage.csv'\n",
    "internet_df = pd.read_csv(internet_path)\n",
    "internet_df=internet_df.dropna()\n",
    "internet_df = internet_df.drop(['Series Name','Series Code'] ,axis=1)\n",
    "internet_df = internet_df.rename(columns={\"Country Name\":\"Country\"})\n",
    "happy_internet = pd.merge(happy_df2015,internet_df, on=\"Country\")\n",
    "happy_internet['Internet 2015']=pd.to_numeric(happy_internet['2015 [YR2015]'], errors='coerce')\n",
    "happy_internet = happy_internet.drop('2015 [YR2015]', axis=1)\n",
    "happy_internet= happy_internet.dropna()"
   ]
  },
  {
   "cell_type": "code",
   "execution_count": 12,
   "id": "eaba5a29",
   "metadata": {
    "scrolled": true
   },
   "outputs": [
    {
     "name": "stdout",
     "output_type": "stream",
     "text": [
      "Correlation value is 0.7957739237373648\n"
     ]
    },
    {
     "data": {
      "image/png": "[encoded data removed]",
      "text/plain": [
       "<Figure size 432x288 with 1 Axes>"
      ]
     },
     "metadata": {
      "needs_background": "light"
     },
     "output_type": "display_data"
    }
   ],
   "source": [
    "#happy_internet.plot.scatter('Internet 2015','Happiness Score')\n",
    "x_values2 = happy_internet[\"Internet 2015\"]\n",
    "y_values2 = happy_internet[\"Happiness Score\"]\n",
    "correlation = st.pearsonr(x_values2,y_values2)\n",
    "(slope, intercept, rvalue, pvalue, stderr) = linregress(x_values2, y_values2)\n",
    "regress_values = x_values2 * slope + intercept\n",
    "line_eq = \"y = \" + str(round(slope,2)) + \"x + \" + str(round(intercept,2))\n",
    "plt.scatter(x_values2,y_values2)\n",
    "plt.plot(x_values2,regress_values,\"r-\")\n",
    "plt.annotate(line_eq,(40,3),fontsize=15,color=\"red\")\n",
    "plt.xlabel('Internet Usage(%)')\n",
    "plt.ylabel('Happiness Score')\n",
    "print(f\"Correlation value is {correlation[0]}\")\n",
    "plt.savefig('Images/happiness_vs_internet.png')\n",
    "plt.show()\n"
   ]
  },
  {
   "cell_type": "code",
   "execution_count": 13,
   "id": "9e730874",
   "metadata": {},
   "outputs": [],
   "source": [
    "happy_report_complete_path = 'Resources/happiness_report_complete.csv'\n",
    "happy_report_complete_df = pd.read_csv(happy_report_complete_path)"
   ]
  },
  {
   "cell_type": "code",
   "execution_count": 14,
   "id": "625afad0",
   "metadata": {
    "scrolled": false
   },
   "outputs": [],
   "source": [
    "happy_report_filtered_df = happy_report_complete_df.loc[(happy_report_complete_df['Country name']==\"Denmark\")|(happy_report_complete_df['Country name']=='China')|(happy_report_complete_df['Country name']=='United States')|(happy_report_complete_df['Country name']=='Russia')|(happy_report_complete_df['Country name']=='Afghanistan')]\n",
    "happy_report_filtered_df = happy_report_filtered_df.iloc[: , [0, 1, 2]]\n",
    "#pd.set_option(\"display.max_rows\", None, \"display.max_columns\", None)\n",
    "happy_report_filtered_df\n",
    "filtered_data={'Afghanistan':[3.723590,4.401778,4.758381,3.831719,3.782938,3.572100,3.130896,3.982855,4.220169,2.661718,2.694303,2.375092],\n",
    "             'China':[4.846295,4.454361,4.652737,5.037208,5.094917,5.241090,5.195619,5.303878,5.324956,5.099061,5.131434,5.144120],\n",
    "             'Denmark':[7.970892,7.683359,7.770515,7.788232,7.519909,7.588607,7.507559,7.514425,7.557783,7.593702,7.648786,7.693003],\n",
    "             'Russia':[5.618754,5.158228,5.384773,5.388766,5.620736,5.537178,6.036977,5.995539,5.854946,5.578743,5.513500,5.440524],\n",
    "             'United States':[7.280386,7.158032,7.163616,7.115139,7.026227,7.249285,7.151114,6.863947,6.803600,6.991759,6.882685,6.943701],\n",
    "             'Year':[2008,2009,2010,2011,2012,2013,2014,2015,2016,2017,2018,2019]}\n",
    "new_happy_report_filtered_df=pd.DataFrame(data=filtered_data)\n"
   ]
  },
  {
   "cell_type": "markdown",
   "id": "0fc70638",
   "metadata": {},
   "source": [
    "**Graph showing the Change in Happiness for Different Countries**"
   ]
  },
  {
   "cell_type": "code",
   "execution_count": 15,
   "id": "b25ddaf9",
   "metadata": {
    "scrolled": false
   },
   "outputs": [
    {
     "data": {
      "image/png": "[encoded data removed]",
      "text/plain": [
       "<Figure size 720x504 with 1 Axes>"
      ]
     },
     "metadata": {
      "needs_background": "light"
     },
     "output_type": "display_data"
    }
   ],
   "source": [
    "\n",
    "new_happy_report_filtered_df.plot.line(x='Year',figsize=(10,7),title=\"Happiness Change in 5 Countries from 2008-2019\")\n",
    "plt.ylabel(\"Happiness Score\")\n",
    "plt.savefig(\"Images/Happiness Change over Time\")"
   ]
  },
  {
   "cell_type": "code",
   "execution_count": 16,
   "id": "d57faef1",
   "metadata": {},
   "outputs": [],
   "source": [
    "obesity_path = 'Resources/obesity.csv'\n",
    "obesity_df = pd.read_csv(obesity_path)\n",
    "columnheaders = list(obesity_df.columns.values)\n",
    "obesity_df = obesity_df[['Location', 'FactValueNumeric','Period', 'Dim1ValueCode' ]]\n",
    "obesity_df = obesity_df.loc[obesity_df['Period'] ==2015]\n",
    "obesity_df = obesity_df.loc[obesity_df['Dim1ValueCode'] ==\"BTSX\"]\n",
    "obesity_df = obesity_df.rename(columns={\"Location\":\"Country\", \"Period\": \"Year\", \"Dim1ValueCode\":\"SEX\"})\n"
   ]
  },
  {
   "cell_type": "code",
   "execution_count": 17,
   "id": "a77fcb2d",
   "metadata": {},
   "outputs": [],
   "source": [
    "# merge the cells\n",
    "happy_obese = pd.merge(happy_alco, obesity_df , on=\"Country\", how =\"left\")\n",
    "happy_obese = happy_obese.dropna()"
   ]
  },
  {
   "cell_type": "code",
   "execution_count": 18,
   "id": "f83891c0",
   "metadata": {},
   "outputs": [],
   "source": [
    "y_axis = happy_obese[\"Happiness Score\"]\n",
    "x_axis = happy_obese[\"FactValueNumeric\"]"
   ]
  },
  {
   "cell_type": "code",
   "execution_count": 29,
   "id": "08ce8454",
   "metadata": {},
   "outputs": [
    {
     "data": {
      "text/plain": [
       "Text(0, 0.5, 'Happiness Score')"
      ]
     },
     "execution_count": 29,
     "metadata": {},
     "output_type": "execute_result"
    },
    {
     "data": {
      "image/png": "[encoded data removed]",
      "text/plain": [
       "<Figure size 432x288 with 1 Axes>"
      ]
     },
     "metadata": {
      "needs_background": "light"
     },
     "output_type": "display_data"
    }
   ],
   "source": [
    "#Plotting scatter plot for Happiness Rank vs. FactValueNumeric\n",
    "plt.scatter(x_axis,y_axis,c='orange')\n",
    "plt.xlabel('Obesity Percentage')\n",
    "plt.ylabel('Happiness Score')"
   ]
  },
  {
   "cell_type": "code",
   "execution_count": 20,
   "id": "97e48dcb",
   "metadata": {},
   "outputs": [
    {
     "name": "stdout",
     "output_type": "stream",
     "text": [
      "The correlation value is 0.57\n"
     ]
    },
    {
     "data": {
      "image/png": "[encoded data removed]",
      "text/plain": [
       "<Figure size 432x288 with 1 Axes>"
      ]
     },
     "metadata": {
      "needs_background": "light"
     },
     "output_type": "display_data"
    }
   ],
   "source": [
    "# Print out the r-squared value along with the plot.\n",
    "y_values =  happy_obese[\"Happiness Score\"]\n",
    "x_values = happy_obese[\"FactValueNumeric\"]\n",
    "corr = round(st.pearsonr(x_values,y_values)[0],2)\n",
    "print(f\"The correlation value is {corr}\")\n",
    "(slope, intercept, rvalue, pvalue, stderr) = linregress(x_values, y_values)\n",
    "regress_values = x_values * slope + intercept\n",
    "line_eq = \"y = \" + str(round(slope,2)) + \"x + \" + str(round(intercept,2))\n",
    "plt.scatter(x_values,y_values,c='orange')\n",
    "plt.plot(x_values,regress_values,\"r-\")\n",
    "plt.annotate(line_eq,(20,3),fontsize=15,color=\"red\")\n",
    "plt.xlabel('Obesity Percentage')\n",
    "plt.ylabel('Happiness Score')\n",
    "#print the r-squared value\n",
    "#print(f\"The r-squared is: {rvalue**2}\")\n",
    "plt.minorticks_on()\n",
    "plt.grid(which = 'major', linestyle = '-', linewidth = 0.5 )\n",
    "plt.grid(which = 'minor', linestyle = ':', linewidth = 0.5 )\n",
    "#plt.xlim(-60,85)\n",
    "plt.tight_layout()\n",
    "#plot\n",
    "plt.savefig('Images/happiness_vs_obesity.png')\n",
    "plt.show()"
   ]
  },
  {
   "cell_type": "code",
   "execution_count": 21,
   "id": "84f30056",
   "metadata": {},
   "outputs": [],
   "source": [
    "every_parameter_df= pd.merge(happy_alco, happy_internet, on='Country')\n",
    "every_parameter_df = pd.merge(every_parameter_df, happy_obese, on='Country')\n",
    "\n",
    "every_parameter_df\n",
    "every_parameter_df = every_parameter_df.drop(every_parameter_df.columns[[4,6,7,8,9,10,11,12,15,16,17,18,19,20,21,22,23,24,25,26,28,29,30,31,32,33,34,35,36,37]],axis=1)"
   ]
  },
  {
   "cell_type": "code",
   "execution_count": 22,
   "id": "0d1d7cf8",
   "metadata": {},
   "outputs": [],
   "source": [
    "every_parameter_df.drop(every_parameter_df.columns[[5,8,9,10,11,13,14]],axis=1,inplace=True)"
   ]
  },
  {
   "cell_type": "code",
   "execution_count": null,
   "id": "f93af84e",
   "metadata": {},
   "outputs": [],
   "source": []
  },
  {
   "cell_type": "code",
   "execution_count": 23,
   "id": "12432400",
   "metadata": {},
   "outputs": [],
   "source": [
    "rename_dict = {'Region_x':'Region',\n",
    "               'Happiness Rank_x':'Happiness Rank',\n",
    "               'Happiness Score_x':'Happiness Score',\n",
    "               'Economy (GDP per Capita)_x':'Economy (GDP per Capita}',\n",
    "               'Total alcohol consumption per capita (liters of pure alcohol, projected estimates, 15+ years of age)_x':'Total alcohol consumption per capita',\n",
    "               'FactValueNumeric':'Obesity Percentage'}\n",
    "\n",
    "\n",
    "\n",
    "\n"
   ]
  },
  {
   "cell_type": "code",
   "execution_count": 24,
   "id": "a9b8fce3",
   "metadata": {},
   "outputs": [],
   "source": [
    "every_parameter_df=every_parameter_df.rename(columns=rename_dict)"
   ]
  },
  {
   "cell_type": "code",
   "execution_count": 25,
   "id": "cc955dc5",
   "metadata": {},
   "outputs": [
    {
     "data": {
      "text/html": [
       "<div>\n",
       "<style scoped>\n",
       "    .dataframe tbody tr th:only-of-type {\n",
       "        vertical-align: middle;\n",
       "    }\n",
       "\n",
       "    .dataframe tbody tr th {\n",
       "        vertical-align: top;\n",
       "    }\n",
       "\n",
       "    .dataframe thead th {\n",
       "        text-align: right;\n",
       "    }\n",
       "</style>\n",
       "<table border=\"1\" class=\"dataframe\">\n",
       "  <thead>\n",
       "    <tr style=\"text-align: right;\">\n",
       "      <th></th>\n",
       "      <th>Happiness Rank</th>\n",
       "      <th>Happiness Score</th>\n",
       "      <th>Economy (GDP per Capita}</th>\n",
       "      <th>Total alcohol consumption per capita</th>\n",
       "      <th>Internet 2015</th>\n",
       "      <th>Obesity Percentage</th>\n",
       "    </tr>\n",
       "  </thead>\n",
       "  <tbody>\n",
       "    <tr>\n",
       "      <th>Happiness Rank</th>\n",
       "      <td>1.000000</td>\n",
       "      <td>-0.992498</td>\n",
       "      <td>-0.807515</td>\n",
       "      <td>-0.302258</td>\n",
       "      <td>-0.791621</td>\n",
       "      <td>-0.599920</td>\n",
       "    </tr>\n",
       "    <tr>\n",
       "      <th>Happiness Score</th>\n",
       "      <td>-0.992498</td>\n",
       "      <td>1.000000</td>\n",
       "      <td>0.803784</td>\n",
       "      <td>0.307415</td>\n",
       "      <td>0.790905</td>\n",
       "      <td>0.594238</td>\n",
       "    </tr>\n",
       "    <tr>\n",
       "      <th>Economy (GDP per Capita}</th>\n",
       "      <td>-0.807515</td>\n",
       "      <td>0.803784</td>\n",
       "      <td>1.000000</td>\n",
       "      <td>0.409726</td>\n",
       "      <td>0.922044</td>\n",
       "      <td>0.705821</td>\n",
       "    </tr>\n",
       "    <tr>\n",
       "      <th>Total alcohol consumption per capita</th>\n",
       "      <td>-0.302258</td>\n",
       "      <td>0.307415</td>\n",
       "      <td>0.409726</td>\n",
       "      <td>1.000000</td>\n",
       "      <td>0.468733</td>\n",
       "      <td>0.227433</td>\n",
       "    </tr>\n",
       "    <tr>\n",
       "      <th>Internet 2015</th>\n",
       "      <td>-0.791621</td>\n",
       "      <td>0.790905</td>\n",
       "      <td>0.922044</td>\n",
       "      <td>0.468733</td>\n",
       "      <td>1.000000</td>\n",
       "      <td>0.692801</td>\n",
       "    </tr>\n",
       "    <tr>\n",
       "      <th>Obesity Percentage</th>\n",
       "      <td>-0.599920</td>\n",
       "      <td>0.594238</td>\n",
       "      <td>0.705821</td>\n",
       "      <td>0.227433</td>\n",
       "      <td>0.692801</td>\n",
       "      <td>1.000000</td>\n",
       "    </tr>\n",
       "  </tbody>\n",
       "</table>\n",
       "</div>"
      ],
      "text/plain": [
       "                                      Happiness Rank  Happiness Score  \\\n",
       "Happiness Rank                              1.000000        -0.992498   \n",
       "Happiness Score                            -0.992498         1.000000   \n",
       "Economy (GDP per Capita}                   -0.807515         0.803784   \n",
       "Total alcohol consumption per capita       -0.302258         0.307415   \n",
       "Internet 2015                              -0.791621         0.790905   \n",
       "Obesity Percentage                         -0.599920         0.594238   \n",
       "\n",
       "                                      Economy (GDP per Capita}  \\\n",
       "Happiness Rank                                       -0.807515   \n",
       "Happiness Score                                       0.803784   \n",
       "Economy (GDP per Capita}                              1.000000   \n",
       "Total alcohol consumption per capita                  0.409726   \n",
       "Internet 2015                                         0.922044   \n",
       "Obesity Percentage                                    0.705821   \n",
       "\n",
       "                                      Total alcohol consumption per capita  \\\n",
       "Happiness Rank                                                   -0.302258   \n",
       "Happiness Score                                                   0.307415   \n",
       "Economy (GDP per Capita}                                          0.409726   \n",
       "Total alcohol consumption per capita                              1.000000   \n",
       "Internet 2015                                                     0.468733   \n",
       "Obesity Percentage                                                0.227433   \n",
       "\n",
       "                                      Internet 2015  Obesity Percentage  \n",
       "Happiness Rank                            -0.791621           -0.599920  \n",
       "Happiness Score                            0.790905            0.594238  \n",
       "Economy (GDP per Capita}                   0.922044            0.705821  \n",
       "Total alcohol consumption per capita       0.468733            0.227433  \n",
       "Internet 2015                              1.000000            0.692801  \n",
       "Obesity Percentage                         0.692801            1.000000  "
      ]
     },
     "execution_count": 25,
     "metadata": {},
     "output_type": "execute_result"
    }
   ],
   "source": [
    "every_parameter_df.corr()"
   ]
  },
  {
   "cell_type": "code",
   "execution_count": null,
   "id": "e14e06d1",
   "metadata": {},
   "outputs": [],
   "source": []
  },
  {
   "cell_type": "code",
   "execution_count": null,
   "id": "fa1167df",
   "metadata": {},
   "outputs": [],
   "source": []
  }
 ],
 "metadata": {
  "kernelspec": {
   "display_name": "PythonData",
   "language": "python",
   "name": "pythondata"
  },
  "language_info": {
   "codemirror_mode": {
    "name": "ipython",
    "version": 3
   },
   "file_extension": ".py",
   "mimetype": "text/x-python",
   "name": "python",
   "nbconvert_exporter": "python",
   "pygments_lexer": "ipython3",
   "version": "3.7.7"
  }
 },
 "nbformat": 4,
 "nbformat_minor": 5
}
